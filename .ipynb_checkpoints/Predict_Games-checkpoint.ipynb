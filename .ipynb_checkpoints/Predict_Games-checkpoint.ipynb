{
 "cells": [
  {
   "cell_type": "code",
   "execution_count": 524,
   "metadata": {
    "collapsed": false
   },
   "outputs": [],
   "source": [
    "import psycopg2\n",
    "import pandas as pd\n",
    "import numpy as np\n",
    "import matplotlib.pyplot as plt\n",
    "from psycopg2.extensions import AsIs\n",
    "from sklearn import linear_model\n",
    "from __future__ import division\n",
    "%matplotlib inline\n",
    "\n",
    "class NflTeam:\n",
    "    \n",
    "    def __init__(self, team_name, game_date, home_team, db_conn):\n",
    "        self.team_name = team_name\n",
    "        self.db_conn = db_conn\n",
    "        self.game_date = game_date\n",
    "        self.last_game_id = self.get_last_game_id()\n",
    "        if home_team == 1:\n",
    "            self.prefix = \"home_\"\n",
    "        else:\n",
    "            self.prefix = \"away_\"\n",
    "    \n",
    "    def collect_data(self):\n",
    "        agg_play = self.get_last_agg_play_data()\n",
    "        game = self.get_last_game_data()\n",
    "        play = self.get_last_play_data()\n",
    "        return dict(agg_play.items() + game.items() + play.items())\n",
    "        \n",
    "    def get_last_agg_play_data(self):\n",
    "        pass_var = self.prefix + \"prev_game_pass_yds\"\n",
    "        rush_var = self.prefix + \"prev_game_rush_yds\"\n",
    "        all_vars = [pass_var, rush_var]\n",
    "        cur = self.db_conn.cursor()\n",
    "        cur.execute(\"\"\" \n",
    "                        select sum(plays.passing_yds) as %(pass)s,\n",
    "                               sum(plays.rushing_yds) as %(rush)s\n",
    "                               from agg_play plays\n",
    "                        left join drive drive on plays.gsis_id = drive.gsis_id and\n",
    "                            plays.drive_id = drive.drive_id\n",
    "                        where plays.gsis_id = %(gsis)s and drive.pos_team = %(team)s\n",
    "                    \"\"\", {'gsis' : self.last_game_id, 'team' : self.team_name, \n",
    "                          'pass' : AsIs(pass_var), 'rush' : AsIs(rush_var)})\n",
    "        yds_data = cur.fetchone()\n",
    "        cur.close()\n",
    "        yds_data = [data for data in yds_data]\n",
    "        return self.db_to_dict(yds_data, all_vars)\n",
    "    \n",
    "    def get_last_game_data(self):\n",
    "        cur = self.db_conn.cursor()\n",
    "        all_vars = [self.prefix + \"won_prev_game\", self.prefix + \"prev_game_spread\"]\n",
    "        cur.execute(\"\"\"\n",
    "                        select case when home_team = %(team)s and home_score >= away_score then 1\n",
    "                                    when home_team = %(team)s and home_score < away_score then 0\n",
    "                                    when away_team = %(team)s and home_score > away_score then 0\n",
    "                                    when away_team = %(team)s and home_score <= away_score then 1\n",
    "                                end as won_last_game,\n",
    "                               case when home_team = %(team)s then home_score - away_score\n",
    "                                    when away_team = %(team)s then away_score - home_score\n",
    "                                end as game_spread\n",
    "                        from game\n",
    "                        where gsis_id = %(gsis)s;\"\"\", {'team' : self.team_name, 'gsis' : self.last_game_id})\n",
    "        game_data = cur.fetchone()\n",
    "        cur.close()\n",
    "        return self.db_to_dict(game_data, all_vars)\n",
    "    \n",
    "    def get_last_play_data(self):\n",
    "        cur = self.db_conn.cursor()\n",
    "        all_vars = [self.prefix + \"prev_num_first_downs\"]\n",
    "        cur.execute(\"\"\"\n",
    "                        select sum(first_down)\n",
    "                        from play\n",
    "                        where gsis_id = %(gsis)s and pos_team = %(team)s;\"\"\", \n",
    "                    {'team' : self.team_name, 'gsis' : self.last_game_id})\n",
    "        game_data = cur.fetchone()\n",
    "        cur.close()\n",
    "        return self.db_to_dict(game_data, all_vars) \n",
    "    \n",
    "    def get_last_game_id(self):\n",
    "        cur = self.db_conn.cursor()\n",
    "        cur.execute(\"\"\" select gsis_id, start_time, home_team, away_team\n",
    "                        from game \n",
    "                        where start_time < date %(date)s and\n",
    "                            (home_team = %(team)s or away_team = %(team)s)\n",
    "                        order by start_time desc\n",
    "                        limit 1; \"\"\", {'date' : self.game_date, 'team' : self.team_name})\n",
    "        last_game_id = cur.fetchone()[0]\n",
    "        cur.close()\n",
    "        return last_game_id\n",
    "    \n",
    "    def db_to_dict(self, db_values, variables):\n",
    "        values = [data for data in db_values]\n",
    "        return dict(zip(variables, values))\n",
    "    \n",
    "class NflGame:\n",
    "    \n",
    "    def __init__(self, home_team, away_team, conn):\n",
    "        assert home_team.game_date == away_team.game_date\n",
    "        self.home_team = home_team\n",
    "        self.away_team = away_team\n",
    "        self.db_conn = conn\n",
    "    \n",
    "    def get_outcome(self):\n",
    "        cur = self.db_conn.cursor()\n",
    "        cur.execute(\"\"\" select gsis_id, case when home_score >= away_score then 1 \n",
    "                               when home_score < away_score then 0 end as home_won\n",
    "                        from game \n",
    "                        where home_team = %(home)s and away_team = %(away)s and\n",
    "                            date(start_time) = date %(date)s; \"\"\",\n",
    "                    {'date' : self.home_team.game_date, 'home' : self.home_team.team_name,\n",
    "                     'away' : self.away_team.team_name})\n",
    "        outcome_data = [data for data in cur.fetchone()]\n",
    "        all_vars = ['gsis_id', 'home_won']\n",
    "        cur.close()\n",
    "        return dict(zip(all_vars, outcome_data))\n",
    "    \n",
    "    def get_data(self):\n",
    "        home_data = self.home_team.collect_data().items()\n",
    "        away_data = self.away_team.collect_data().items()\n",
    "        return dict(home_data + away_data)\n",
    "    \n",
    "    def get_pred_row(self):\n",
    "        data = self.get_data()\n",
    "        outcome = self.get_outcome()\n",
    "        return dict(data.items() + outcome.items())\n",
    "    \n",
    "class NflSeason:\n",
    "    \n",
    "    def __init__(self, season, conn):\n",
    "        self.season = season\n",
    "        self.db_conn = conn\n",
    "        self.games = self.get_games()\n",
    "    \n",
    "    def get_games(self):\n",
    "        cur = self.db_conn.cursor()\n",
    "        cur.execute(\"\"\" select home_team, away_team, date(start_time)\n",
    "                        from game\n",
    "                        where season_year = %(season)s and season_type = 'Regular'; \"\"\",\n",
    "                    {'season' : self.season})\n",
    "        games = cur.fetchall()\n",
    "        cur.close()\n",
    "        return games\n",
    "    \n",
    "    def get_game_data(self):\n",
    "        game_rows = []\n",
    "        for game in self.games:\n",
    "            game_date = str(game[2])\n",
    "            home_team = NflTeam(game[0], game_date, 1, self.db_conn)\n",
    "            away_team = NflTeam(game[1], game_date, 0, self.db_conn)\n",
    "            game_row = NflGame(home_team, away_team, self.db_conn).get_pred_row()\n",
    "            game_rows.append(game_row)\n",
    "        return game_rows\n",
    "    \n",
    "    def train_on_season(self):\n",
    "        X, y = self.get_X_y()\n",
    "        logreg = linear_model.LogisticRegression()\n",
    "        logreg.fit(X, y)\n",
    "        return logreg\n",
    "    \n",
    "    def test_on_season(self, trained_model):\n",
    "        X, y = self.get_X_y()\n",
    "        pred_y = trained_model.predict(X)\n",
    "        return pred_y, y\n",
    "    \n",
    "    def get_X_y(self):\n",
    "        games = pd.DataFrame(self.get_game_data())\n",
    "        y = games['home_won'].values\n",
    "        del games['home_won']\n",
    "        del games['gsis_id']\n",
    "        X = games.values\n",
    "        return X, y\n",
    "\n",
    "def connect_to_nfl_db():\n",
    "    conn = psycopg2.connect(\"dbname=nfldb user=nfldb\")\n",
    "    return conn\n",
    "\n",
    "def get_teams_in_season(season, conn):\n",
    "    return pd.read_sql(\"select distinct home_team from game where season_year = {}\".format(season), conn)"
   ]
  },
  {
   "cell_type": "code",
   "execution_count": 512,
   "metadata": {
    "collapsed": false
   },
   "outputs": [],
   "source": [
    "conn = connect_to_nfl_db()"
   ]
  },
  {
   "cell_type": "code",
   "execution_count": 513,
   "metadata": {
    "collapsed": false
   },
   "outputs": [],
   "source": [
    "sanfran = NflTeam(\"SF\", \"2014-11-16\", 0, conn)\n",
    "nyg = NflTeam(\"NYG\", \"2014-11-16\", 1, conn)\n",
    "game = NflGame(nyg, sanfran, conn)"
   ]
  },
  {
   "cell_type": "code",
   "execution_count": 514,
   "metadata": {
    "collapsed": false
   },
   "outputs": [],
   "source": [
    "season_2013 = NflSeason(\"2013\", conn)\n",
    "trained_season = season_2013.train_on_season()"
   ]
  },
  {
   "cell_type": "code",
   "execution_count": 517,
   "metadata": {
    "collapsed": false
   },
   "outputs": [],
   "source": [
    "season_2014 = NflSeason(\"2014\", conn)\n",
    "pred_home_wins, home_wins = season_2014.test_on_season(trained_season)"
   ]
  },
  {
   "cell_type": "code",
   "execution_count": 525,
   "metadata": {
    "collapsed": false
   },
   "outputs": [
    {
     "data": {
      "text/plain": [
       "0.57421875"
      ]
     },
     "execution_count": 525,
     "metadata": {},
     "output_type": "execute_result"
    }
   ],
   "source": [
    "sum(pred_home_wins == home_wins) / pred_home_wins.shape[0]"
   ]
  },
  {
   "cell_type": "code",
   "execution_count": 522,
   "metadata": {
    "collapsed": false
   },
   "outputs": [
    {
     "data": {
      "text/plain": [
       "256"
      ]
     },
     "execution_count": 522,
     "metadata": {},
     "output_type": "execute_result"
    }
   ],
   "source": []
  },
  {
   "cell_type": "code",
   "execution_count": 503,
   "metadata": {
    "collapsed": false
   },
   "outputs": [],
   "source": [
    "y = games['home_won'].values\n",
    "del games['home_won']\n",
    "del games['gsis_id']\n",
    "X = games.values"
   ]
  },
  {
   "cell_type": "code",
   "execution_count": 505,
   "metadata": {
    "collapsed": false
   },
   "outputs": [
    {
     "data": {
      "text/plain": [
       "array([[272,  44,  -3, ...,  -8,  20,   0],\n",
       "       [208, 116,   8, ..., -22,  11,   0],\n",
       "       [297,  53,  16, ...,  15,  13,   1],\n",
       "       ..., \n",
       "       [400, 114,  24, ..., -13,  14,   0],\n",
       "       [153, 155, -16, ...,  13,  24,   1],\n",
       "       [158, 129,  10, ...,  -7,  10,   0]])"
      ]
     },
     "execution_count": 505,
     "metadata": {},
     "output_type": "execute_result"
    }
   ],
   "source": []
  },
  {
   "cell_type": "code",
   "execution_count": null,
   "metadata": {
    "collapsed": true
   },
   "outputs": [],
   "source": []
  }
 ],
 "metadata": {
  "kernelspec": {
   "display_name": "Python 2",
   "language": "python",
   "name": "python2"
  },
  "language_info": {
   "codemirror_mode": {
    "name": "ipython",
    "version": 2
   },
   "file_extension": ".py",
   "mimetype": "text/x-python",
   "name": "python",
   "nbconvert_exporter": "python",
   "pygments_lexer": "ipython2",
   "version": "2.7.10"
  }
 },
 "nbformat": 4,
 "nbformat_minor": 0
}
