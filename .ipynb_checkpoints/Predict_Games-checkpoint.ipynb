{
 "cells": [
  {
   "cell_type": "code",
   "execution_count": 360,
   "metadata": {
    "collapsed": false
   },
   "outputs": [],
   "source": [
    "import psycopg2\n",
    "import pandas as pd\n",
    "import numpy as np\n",
    "import matplotlib.pyplot as plt\n",
    "from psycopg2.extensions import AsIs\n",
    "from sklearn import linear_model\n",
    "from sklearn.ensemble import GradientBoostingClassifier\n",
    "from sklearn.ensemble import RandomForestClassifier\n",
    "from sklearn.ensemble import AdaBoostClassifier\n",
    "from __future__ import division\n",
    "%matplotlib inline\n",
    "\n",
    "class NflTeam:\n",
    "    \n",
    "    def __init__(self, team_name, game_date, season, home_team, db_conn):\n",
    "        self.team_name = team_name\n",
    "        self.db_conn = db_conn\n",
    "        self.game_date = game_date\n",
    "        self.season = season\n",
    "        self.last_game_id = self.get_last_game_id()\n",
    "        if home_team == 1:\n",
    "            self.prefix = \"home_\"\n",
    "        else:\n",
    "            self.prefix = \"away_\"\n",
    "    \n",
    "    def collect_data(self):\n",
    "        agg_play = self.get_last_agg_play_data()\n",
    "        game = self.get_last_game_data()\n",
    "        play = self.get_last_play_data()\n",
    "        cur_game = self.get_current_game()\n",
    "        return dict(agg_play.items() + game.items() + play.items() + cur_game.items())\n",
    "    \n",
    "    def get_current_game(self):\n",
    "        cur = self.db_conn.cursor()\n",
    "        turn = self.prefix + \"turnovers\"\n",
    "        cur.execute(\"\"\" \n",
    "                        select\n",
    "                        cast(sum(case when home_score >= away_score and home_team = %(team)s then 1\n",
    "                             when away_score >= home_score and away_team = %(team)s then 1\n",
    "                            else 0 end) as double precision) / count(*) as win_pct,\n",
    "                        sum(%(turn)s) as turn\n",
    "                        from game\n",
    "                        where (home_team = %(team)s or away_team = %(team)s) and \n",
    "                        season_year = %(season)s and season_type = 'Regular' and\n",
    "                        date(start_time) < date %(date)s\n",
    "                    \"\"\", {'date' : self.game_date, 'team' : self.team_name, \n",
    "                          'season' : self.season, 'turn' : AsIs(turn)})\n",
    "        curr_game = [data for data in cur.fetchone()]\n",
    "        if curr_game[0] == None:\n",
    "            curr_game[0] = 1\n",
    "        if curr_game[1] == None:\n",
    "            curr_game[1] = 0\n",
    "        cur.close()\n",
    "        all_vars = [self.prefix + \"curr_wlp\", turn]\n",
    "        return self.db_to_dict(curr_game, all_vars)\n",
    "        \n",
    "    def get_last_agg_play_data(self):\n",
    "        pass_var = self.prefix + \"prev_game_pass_yds\"\n",
    "        rush_var = self.prefix + \"prev_game_rush_yds\"\n",
    "        frec_var = self.prefix + \"prev_game_def_frec\"\n",
    "        int_var = self.prefix + \"prev_game_def_qbhit\"\n",
    "        qbhit_var = self.prefix + \"prev_game_def_int\"\n",
    "        all_vars = [pass_var, rush_var, frec_var, int_var, qbhit_var]\n",
    "        cur = self.db_conn.cursor()\n",
    "        cur.execute(\"\"\" \n",
    "                        select sum(plays.passing_yds) as %(pass)s,\n",
    "                               sum(plays.rushing_yds) as %(rush)s,\n",
    "                               sum(plays.defense_frec) as %(frec)s,\n",
    "                               sum(plays.defense_int) as %(int)s,\n",
    "                               sum(plays.defense_qbhit) as %(qbhit)s\n",
    "                               from agg_play plays\n",
    "                        left join drive drive on plays.gsis_id = drive.gsis_id and\n",
    "                            plays.drive_id = drive.drive_id\n",
    "                        where plays.gsis_id = %(gsis)s and drive.pos_team = %(team)s\n",
    "                    \"\"\", {'gsis' : self.last_game_id, 'team' : self.team_name, \n",
    "                          'pass' : AsIs(pass_var), 'rush' : AsIs(rush_var),\n",
    "                          'frec' : AsIs(frec_var), 'int' : AsIs(int_var), 'qbhit' : AsIs(qbhit_var)})\n",
    "        yds_data = cur.fetchone()\n",
    "        cur.close()\n",
    "        yds_data = [data for data in yds_data]\n",
    "        return self.db_to_dict(yds_data, all_vars)\n",
    "    \n",
    "    def get_last_game_data(self):\n",
    "        cur = self.db_conn.cursor()\n",
    "        turn = self.prefix + \"turnovers\"\n",
    "        all_vars = [self.prefix + \"won_prev_game\", self.prefix + \"prev_game_spread\",\n",
    "                   turn]\n",
    "        cur.execute(\"\"\"\n",
    "                        select case when home_team = %(team)s and home_score >= away_score then 1\n",
    "                                    when away_team = %(team)s and home_score <= away_score then 1\n",
    "                                    else 0\n",
    "                                end as won_last_game,\n",
    "                               case when home_team = %(team)s then home_score - away_score\n",
    "                                    else away_score - home_score\n",
    "                                end as game_spread,\n",
    "                                %(turn)s\n",
    "                        from game\n",
    "                        where gsis_id = %(gsis)s;\"\"\", {'team' : self.team_name, 'gsis' : self.last_game_id,\n",
    "                                                      'turn' : AsIs(turn)})\n",
    "        game_data = cur.fetchone()\n",
    "        cur.close()\n",
    "        return self.db_to_dict(game_data, all_vars)\n",
    "    \n",
    "    def get_last_play_data(self):\n",
    "        cur = self.db_conn.cursor()\n",
    "        all_vars = [self.prefix + \"prev_num_first_downs\"]\n",
    "        cur.execute(\"\"\"\n",
    "                        select sum(first_down)\n",
    "                        from play\n",
    "                        where gsis_id = %(gsis)s and pos_team = %(team)s;\"\"\", \n",
    "                    {'team' : self.team_name, 'gsis' : self.last_game_id})\n",
    "        game_data = cur.fetchone()\n",
    "        cur.close()\n",
    "        return self.db_to_dict(game_data, all_vars) \n",
    "    \n",
    "    def get_last_game_id(self):\n",
    "        cur = self.db_conn.cursor()\n",
    "        cur.execute(\"\"\" select gsis_id, start_time, home_team, away_team\n",
    "                        from game \n",
    "                        where start_time < date %(date)s and\n",
    "                            (home_team = %(team)s or away_team = %(team)s)\n",
    "                        order by start_time desc\n",
    "                        limit 1; \"\"\", {'date' : self.game_date, 'team' : self.team_name})\n",
    "        last_game_id = cur.fetchone()[0]\n",
    "        cur.close()\n",
    "        return last_game_id\n",
    "    \n",
    "    def db_to_dict(self, db_values, variables):\n",
    "        values = [data for data in db_values]\n",
    "        return dict(zip(variables, values))\n",
    "    \n",
    "class NflGame:\n",
    "    \n",
    "    def __init__(self, home_team, away_team, conn):\n",
    "        assert home_team.game_date == away_team.game_date\n",
    "        self.home_team = home_team\n",
    "        self.away_team = away_team\n",
    "        self.db_conn = conn\n",
    "    \n",
    "    def get_outcome(self):\n",
    "        cur = self.db_conn.cursor()\n",
    "        cur.execute(\"\"\" select gsis_id, case when home_score >= away_score then 1 \n",
    "                               when home_score < away_score then 0 end as home_won\n",
    "                        from game \n",
    "                        where home_team = %(home)s and away_team = %(away)s and\n",
    "                            date(start_time) = date %(date)s; \"\"\",\n",
    "                    {'date' : self.home_team.game_date, 'home' : self.home_team.team_name,\n",
    "                     'away' : self.away_team.team_name})\n",
    "        outcome_data = [data for data in cur.fetchone()]\n",
    "        all_vars = ['gsis_id', 'home_won']\n",
    "        cur.close()\n",
    "        return dict(zip(all_vars, outcome_data))\n",
    "    \n",
    "    def get_data(self):\n",
    "        home_data = self.home_team.collect_data().items()\n",
    "        away_data = self.away_team.collect_data().items()\n",
    "        return dict(home_data + away_data)\n",
    "    \n",
    "    def get_pred_row(self):\n",
    "        data = self.get_data()\n",
    "        outcome = self.get_outcome()\n",
    "        return dict(data.items() + outcome.items())\n",
    "    \n",
    "class NflSeason:\n",
    "    \n",
    "    def __init__(self, season, conn):\n",
    "        self.season = season\n",
    "        self.db_conn = conn\n",
    "        self.games = self.get_games()\n",
    "    \n",
    "    def get_games(self):\n",
    "        cur = self.db_conn.cursor()\n",
    "        cur.execute(\"\"\" select home_team, away_team, date(start_time)\n",
    "                        from game\n",
    "                        where season_year = %(season)s and season_type = 'Regular'; \"\"\",\n",
    "                    {'season' : self.season})\n",
    "        games = cur.fetchall()\n",
    "        cur.close()\n",
    "        return games\n",
    "    \n",
    "    def get_game_data(self):\n",
    "        game_rows = []\n",
    "        for game in self.games:\n",
    "            game_date = str(game[2])\n",
    "            home_team = NflTeam(game[0], game_date, self.season, 1, self.db_conn)\n",
    "            away_team = NflTeam(game[1], game_date, self.season, 0, self.db_conn)\n",
    "            game_row = NflGame(home_team, away_team, self.db_conn).get_pred_row()\n",
    "            game_rows.append(game_row)\n",
    "        return game_rows\n",
    "    \n",
    "    def train_on_season(self):\n",
    "        X, y = self.get_X_y()\n",
    "        logreg = linear_model.LogisticRegression()\n",
    "        boost = AdaBoostClassifier()\n",
    "        logreg.fit(X, y)\n",
    "        boost.fit(X, y)\n",
    "        return boost, logreg\n",
    "    \n",
    "    def test_on_season(self, trained_model_1, trained_model_2):\n",
    "        X, y = self.get_X_y()\n",
    "        pred_y_1 = trained_model_1.predict_proba(X)\n",
    "        pred_y_2 = trained_model_2.predict_proba(X)\n",
    "        self.log_prob = pred_y_1\n",
    "        self.boost_prob = pred_y_2\n",
    "        pred_y = self.combine_ensemble(pred_y_1, pred_y_2)\n",
    "        return pred_y, y\n",
    "    \n",
    "    def get_X_y(self):\n",
    "        games = pd.DataFrame(self.get_game_data())\n",
    "        y = games['home_won'].values\n",
    "        del games['home_won']\n",
    "        self.gsis_id = games['gsis_id']\n",
    "        del games['gsis_id']\n",
    "        X = games.values\n",
    "        return X, y\n",
    "    \n",
    "    def combine_ensemble(self, pred_1, pred_2):\n",
    "        assert len(pred_1) == len(pred_2)\n",
    "        num = len(pred_1)\n",
    "        final = []\n",
    "        for i in xrange(num):\n",
    "            v_1 = pred_1[i][1]\n",
    "            v_2 = pred_2[i][1]\n",
    "            avg = (v_1 + v_2) / 2\n",
    "            max_v = max(v_1, v_2)\n",
    "            cut_off = .5\n",
    "            if v_1 > cut_off:\n",
    "                j = 1\n",
    "            else:\n",
    "                j = 0\n",
    "            final.append(j)\n",
    "        return np.array(final)\n",
    "    \n",
    "\n",
    "def connect_to_nfl_db():\n",
    "    conn = psycopg2.connect(\"dbname=nfldb user=nfldb\")\n",
    "    return conn\n",
    "\n",
    "def get_teams_in_season(season, conn):\n",
    "    return pd.read_sql(\"select distinct home_team from game where season_year = {}\".format(season), conn)"
   ]
  },
  {
   "cell_type": "code",
   "execution_count": 361,
   "metadata": {
    "collapsed": false
   },
   "outputs": [],
   "source": [
    "conn = connect_to_nfl_db()"
   ]
  },
  {
   "cell_type": "code",
   "execution_count": 362,
   "metadata": {
    "collapsed": false
   },
   "outputs": [],
   "source": [
    "season_2013 = NflSeason(\"2013\", conn)\n",
    "model1, model2 = season_2013.train_on_season()"
   ]
  },
  {
   "cell_type": "code",
   "execution_count": 363,
   "metadata": {
    "collapsed": false
   },
   "outputs": [],
   "source": [
    "season_2014 = NflSeason(\"2014\", conn)\n",
    "pred_home_wins, home_wins = season_2014.test_on_season(model1, model2)"
   ]
  },
  {
   "cell_type": "code",
   "execution_count": 364,
   "metadata": {
    "collapsed": false
   },
   "outputs": [
    {
     "data": {
      "text/plain": [
       "0.57421875"
      ]
     },
     "execution_count": 364,
     "metadata": {},
     "output_type": "execute_result"
    }
   ],
   "source": [
    "sum(pred_home_wins == home_wins) / pred_home_wins.shape[0]"
   ]
  },
  {
   "cell_type": "code",
   "execution_count": 307,
   "metadata": {
    "collapsed": false
   },
   "outputs": [],
   "source": [
    "big_errors=[]\n",
    "for i in xrange(len(season_2014.boost_prob)):\n",
    "    if season_2014.boost_prob[i][1] > .75 and pred_home_wins[i] != home_wins[i]:\n",
    "        big_errors.append(True)\n",
    "    else:\n",
    "        big_errors.append(False)"
   ]
  },
  {
   "cell_type": "code",
   "execution_count": 308,
   "metadata": {
    "collapsed": false
   },
   "outputs": [
    {
     "data": {
      "text/plain": [
       "25    2013091508\n",
       "Name: gsis_id, dtype: object"
      ]
     },
     "execution_count": 308,
     "metadata": {},
     "output_type": "execute_result"
    }
   ],
   "source": [
    "season_2014.gsis_id[big_errors]"
   ]
  },
  {
   "cell_type": "code",
   "execution_count": 309,
   "metadata": {
    "collapsed": false
   },
   "outputs": [
    {
     "data": {
      "text/html": [
       "<div style=\"max-height:1000px;max-width:1500px;overflow:auto;\">\n",
       "<table border=\"1\" class=\"dataframe\">\n",
       "  <thead>\n",
       "    <tr style=\"text-align: right;\">\n",
       "      <th></th>\n",
       "      <th>start_time</th>\n",
       "      <th>home_team</th>\n",
       "      <th>home_score</th>\n",
       "      <th>away_team</th>\n",
       "      <th>away_score</th>\n",
       "    </tr>\n",
       "  </thead>\n",
       "  <tbody>\n",
       "    <tr>\n",
       "      <th>0</th>\n",
       "      <td>2013-09-15 12:00:00-05:00</td>\n",
       "      <td>PHI</td>\n",
       "      <td>30</td>\n",
       "      <td>SD</td>\n",
       "      <td>33</td>\n",
       "    </tr>\n",
       "  </tbody>\n",
       "</table>\n",
       "</div>"
      ],
      "text/plain": [
       "                  start_time home_team  home_score away_team  away_score\n",
       "0  2013-09-15 12:00:00-05:00       PHI          30        SD          33"
      ]
     },
     "execution_count": 309,
     "metadata": {},
     "output_type": "execute_result"
    }
   ],
   "source": [
    "pd.read_sql(\"\"\"select start_time, home_team, home_score, away_team, away_score from game\n",
    "            where gsis_id = '2013091508'; \"\"\", conn)"
   ]
  },
  {
   "cell_type": "code",
   "execution_count": 320,
   "metadata": {
    "collapsed": false
   },
   "outputs": [
    {
     "data": {
      "text/html": [
       "<div style=\"max-height:1000px;max-width:1500px;overflow:auto;\">\n",
       "<table border=\"1\" class=\"dataframe\">\n",
       "  <thead>\n",
       "    <tr style=\"text-align: right;\">\n",
       "      <th></th>\n",
       "      <th>defense_frec</th>\n",
       "    </tr>\n",
       "  </thead>\n",
       "  <tbody>\n",
       "    <tr>\n",
       "      <th>0</th>\n",
       "      <td>3</td>\n",
       "    </tr>\n",
       "    <tr>\n",
       "      <th>1</th>\n",
       "      <td>2</td>\n",
       "    </tr>\n",
       "    <tr>\n",
       "      <th>2</th>\n",
       "      <td>2</td>\n",
       "    </tr>\n",
       "    <tr>\n",
       "      <th>3</th>\n",
       "      <td>2</td>\n",
       "    </tr>\n",
       "    <tr>\n",
       "      <th>4</th>\n",
       "      <td>2</td>\n",
       "    </tr>\n",
       "  </tbody>\n",
       "</table>\n",
       "</div>"
      ],
      "text/plain": [
       "   defense_frec\n",
       "0             3\n",
       "1             2\n",
       "2             2\n",
       "3             2\n",
       "4             2"
      ]
     },
     "execution_count": 320,
     "metadata": {},
     "output_type": "execute_result"
    }
   ],
   "source": [
    "pd.read_sql(\"\"\"select defense_frec from agg_play order by defense_frec desc limit 5; \"\"\", conn)"
   ]
  },
  {
   "cell_type": "code",
   "execution_count": null,
   "metadata": {
    "collapsed": true
   },
   "outputs": [],
   "source": []
  },
  {
   "cell_type": "code",
   "execution_count": null,
   "metadata": {
    "collapsed": true
   },
   "outputs": [],
   "source": []
  }
 ],
 "metadata": {
  "kernelspec": {
   "display_name": "Python 2",
   "language": "python",
   "name": "python2"
  },
  "language_info": {
   "codemirror_mode": {
    "name": "ipython",
    "version": 2
   },
   "file_extension": ".py",
   "mimetype": "text/x-python",
   "name": "python",
   "nbconvert_exporter": "python",
   "pygments_lexer": "ipython2",
   "version": "2.7.10"
  }
 },
 "nbformat": 4,
 "nbformat_minor": 0
}
